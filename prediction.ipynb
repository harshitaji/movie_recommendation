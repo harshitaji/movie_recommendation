{
 "cells": [
  {
   "cell_type": "code",
   "execution_count": 21,
   "id": "dc0bf3e0",
   "metadata": {},
   "outputs": [],
   "source": [
    "import numpy as np\n",
    "import tensorflow as tf\n",
    "from tensorflow.keras.datasets import imdb \n",
    "from tensorflow.keras.preprocessing import sequence\n",
    "from tensorflow.keras.models import load_model\n"
   ]
  },
  {
   "cell_type": "code",
   "execution_count": 22,
   "metadata": {},
   "outputs": [],
   "source": [
    "word_index = imdb.get_word_index()\n",
    "reverse_word_index = {value: key for key,value in word_index.items()}"
   ]
  },
  {
   "cell_type": "code",
   "execution_count": 23,
   "metadata": {},
   "outputs": [
    {
     "name": "stdout",
     "output_type": "stream",
     "text": [
      "Model: \"sequential\"\n",
      "_________________________________________________________________\n",
      " Layer (type)                Output Shape              Param #   \n",
      "=================================================================\n",
      " embedding (Embedding)       (None, 500, 64)           640000    \n",
      "                                                                 \n",
      " simple_rnn (SimpleRNN)      (None, 64)                8256      \n",
      "                                                                 \n",
      " dense (Dense)               (None, 1)                 65        \n",
      "                                                                 \n",
      "=================================================================\n",
      "Total params: 648,321\n",
      "Trainable params: 648,321\n",
      "Non-trainable params: 0\n",
      "_________________________________________________________________\n"
     ]
    }
   ],
   "source": [
    "model = load_model('simple_rnn_imdb.h5')\n",
    "model.summary()"
   ]
  },
  {
   "cell_type": "code",
   "execution_count": 24,
   "id": "b66833c9",
   "metadata": {},
   "outputs": [
    {
     "data": {
      "text/plain": [
       "[array([[-0.05482561, -0.00505985, -0.03495142, ...,  0.07120111,\n",
       "         -0.01900719,  0.05487032],\n",
       "        [-0.03766875,  0.04468382, -0.04540433, ...,  0.00933227,\n",
       "         -0.04371502, -0.04715845],\n",
       "        [-0.0553662 , -0.03612529, -0.09995364, ...,  0.08804023,\n",
       "         -0.05422069,  0.00950873],\n",
       "        ...,\n",
       "        [ 0.10759341, -0.01361993,  0.07469398, ..., -0.09892303,\n",
       "         -0.00846259,  0.04086644],\n",
       "        [-0.0247901 , -0.02003044,  0.0044018 , ..., -0.07391486,\n",
       "         -0.03044792,  0.02157231],\n",
       "        [-0.09917772,  0.10052621,  0.09790596, ...,  0.04627587,\n",
       "          0.0330117 , -0.06287514]], dtype=float32),\n",
       " array([[ 0.1082468 , -0.06328331, -0.05392675, ...,  0.139336  ,\n",
       "          0.1766488 , -0.14383554],\n",
       "        [-0.11843153, -0.15167986,  0.00837088, ..., -0.2702083 ,\n",
       "          0.16420679,  0.22197308],\n",
       "        [ 0.12439564, -0.17669947, -0.11609915, ..., -0.10197363,\n",
       "         -0.05263029,  0.03340832],\n",
       "        ...,\n",
       "        [-0.14680624,  0.06327228, -0.22677973, ..., -0.12017271,\n",
       "         -0.01306988, -0.1376598 ],\n",
       "        [-0.04257592, -0.09422398,  0.09512214, ..., -0.14587699,\n",
       "         -0.1948392 ,  0.11332765],\n",
       "        [ 0.08589645,  0.00630969, -0.22659254, ...,  0.05787157,\n",
       "          0.05172798, -0.07915215]], dtype=float32),\n",
       " array([[ 0.1268566 , -0.13565521,  0.5617457 , ...,  0.0995312 ,\n",
       "         -0.07681294,  0.02170588],\n",
       "        [-0.08243339,  0.13118109, -0.00198528, ..., -0.08299114,\n",
       "         -0.34643784,  0.00701822],\n",
       "        [ 0.10359129, -0.26737607, -0.06037366, ..., -0.20941694,\n",
       "         -0.19929548,  0.08508522],\n",
       "        ...,\n",
       "        [-0.18799742, -0.16108897,  0.03720711, ...,  0.14127988,\n",
       "          0.04948003, -0.03119696],\n",
       "        [ 0.24934785,  0.02853124,  0.02954282, ..., -0.03867614,\n",
       "          0.09615881, -0.04135251],\n",
       "        [-0.15347634, -0.04141138, -0.11606969, ...,  0.00721837,\n",
       "          0.12907468, -0.00984629]], dtype=float32),\n",
       " array([-0.02666376,  0.02459779,  0.03733123,  0.03872996, -0.07265043,\n",
       "         0.03966172, -0.0105695 , -0.07992835,  0.0366212 , -0.04250027,\n",
       "        -0.05304295, -0.01996086,  0.05464871, -0.0381993 , -0.03627428,\n",
       "        -0.00626259, -0.02104497, -0.04874756, -0.02173282,  0.04579822,\n",
       "         0.00543622,  0.01516166,  0.00938038, -0.06342215,  0.02827336,\n",
       "        -0.0722596 , -0.05738704, -0.03170804, -0.01434595, -0.0581684 ,\n",
       "        -0.01394076, -0.05648291,  0.00753902, -0.01270488,  0.02748166,\n",
       "        -0.03540109, -0.01216681,  0.02031332,  0.0077875 , -0.00389327,\n",
       "        -0.05607245, -0.04668259, -0.05705419, -0.01325137, -0.06241314,\n",
       "         0.01547795,  0.00600848, -0.01565723, -0.05959895, -0.00648831,\n",
       "        -0.01381861,  0.02767346, -0.02114032, -0.06917409, -0.01819993,\n",
       "        -0.04271254,  0.01147505, -0.00694155, -0.06412923,  0.03332675,\n",
       "        -0.04366161, -0.04672337, -0.03190079,  0.02660063], dtype=float32),\n",
       " array([[ 5.00536799e-01],\n",
       "        [-3.63799602e-01],\n",
       "        [-1.86317917e-02],\n",
       "        [ 1.80487528e-01],\n",
       "        [-1.91026747e-01],\n",
       "        [-3.67053717e-01],\n",
       "        [ 7.02966630e-01],\n",
       "        [ 1.03807494e-01],\n",
       "        [ 3.60030651e-01],\n",
       "        [-1.49110258e-01],\n",
       "        [ 2.36254349e-01],\n",
       "        [ 1.19329460e-01],\n",
       "        [ 1.11310637e+00],\n",
       "        [ 2.05199718e-01],\n",
       "        [-5.58696449e-01],\n",
       "        [ 2.03065321e-01],\n",
       "        [ 1.19800821e-01],\n",
       "        [-6.20264523e-02],\n",
       "        [-1.00852214e-01],\n",
       "        [ 1.76861441e+00],\n",
       "        [-5.30764818e-01],\n",
       "        [-4.65127140e-01],\n",
       "        [-3.09711546e-01],\n",
       "        [ 1.76211283e-01],\n",
       "        [ 1.13344766e-01],\n",
       "        [ 8.62882584e-02],\n",
       "        [-2.46588271e-02],\n",
       "        [-4.06439185e-01],\n",
       "        [ 2.32909426e-01],\n",
       "        [ 9.34034586e-02],\n",
       "        [ 8.55564699e-02],\n",
       "        [ 1.59358740e-01],\n",
       "        [-6.96316779e-01],\n",
       "        [ 2.53912091e-01],\n",
       "        [-4.81046200e-01],\n",
       "        [-2.08120674e-01],\n",
       "        [ 6.17718659e-02],\n",
       "        [ 1.43480971e-01],\n",
       "        [ 2.08886266e-01],\n",
       "        [ 2.10007101e-01],\n",
       "        [ 2.82650143e-02],\n",
       "        [ 1.64053679e-01],\n",
       "        [ 1.70120038e-02],\n",
       "        [-2.49978989e-01],\n",
       "        [ 9.95331630e-02],\n",
       "        [-8.34526718e-01],\n",
       "        [ 5.96073031e-01],\n",
       "        [ 6.82917312e-02],\n",
       "        [-3.87181222e-01],\n",
       "        [-1.07880509e+00],\n",
       "        [ 3.78425539e-01],\n",
       "        [-1.10737324e+00],\n",
       "        [ 3.32778692e-01],\n",
       "        [ 2.16056377e-01],\n",
       "        [-1.52986601e-01],\n",
       "        [ 2.01287810e-02],\n",
       "        [ 4.22928810e-01],\n",
       "        [-3.10726404e-01],\n",
       "        [ 2.34009102e-01],\n",
       "        [ 1.16165787e-01],\n",
       "        [-2.95647979e-02],\n",
       "        [-1.25147715e-01],\n",
       "        [-3.35531145e-01],\n",
       "        [ 1.16613694e-03]], dtype=float32),\n",
       " array([1.2360601], dtype=float32)]"
      ]
     },
     "execution_count": 24,
     "metadata": {},
     "output_type": "execute_result"
    }
   ],
   "source": [
    "model.get_weights()"
   ]
  },
  {
   "cell_type": "code",
   "execution_count": 25,
   "id": "37151272",
   "metadata": {},
   "outputs": [],
   "source": [
    "def decode_review(encoded_review):\n",
    "    return ' '.join([reverse_word_index.get(i-3,'?') for i in encoded_review])\n",
    "\n",
    "\n",
    "def preprocess_text(text):\n",
    "    words = text.lower().split()\n",
    "    encoded_review = [word_index.get(word,2)+3 for word in words]\n",
    "    padded_review = sequence.pad_sequences([encoded_review],maxlen=500)\n",
    "    return padded_review"
   ]
  },
  {
   "cell_type": "code",
   "execution_count": 26,
   "id": "4d6f8eeb",
   "metadata": {},
   "outputs": [],
   "source": [
    "##prediction\n",
    "\n",
    "def predit_sentiment(review):\n",
    "    preprocessed_inp = preprocess_text(review)\n",
    "    if preprocessed_inp is None:\n",
    "        raise ValueError(\"Preprocessing returned None!\")\n",
    "\n",
    "    prediction = model.predict(preprocessed_inp)\n",
    "\n",
    "    sentiment = 'Positive(+)' if prediction[0][0] > 0.5 else 'Negative (-)'\n",
    "\n",
    "    return sentiment , prediction[0][0]\n"
   ]
  },
  {
   "cell_type": "code",
   "execution_count": 31,
   "id": "557ef921",
   "metadata": {},
   "outputs": [
    {
     "name": "stdout",
     "output_type": "stream",
     "text": [
      "1/1 [==============================] - 0s 24ms/step\n",
      "Sentiment: Positive(+), Score: 0.9149\n"
     ]
    }
   ],
   "source": [
    "eg_review = \"the movie had a very sad ending and it very heartfelt \"\n",
    "sentiment, score = predit_sentiment(eg_review)\n",
    "print(f\"Sentiment: {sentiment}, Score: {score:.4f}\")"
   ]
  },
  {
   "cell_type": "code",
   "execution_count": null,
   "id": "33b5a5d3",
   "metadata": {},
   "outputs": [],
   "source": []
  },
  {
   "cell_type": "code",
   "execution_count": 20,
   "id": "b1304dcd",
   "metadata": {},
   "outputs": [
    {
     "name": "stdout",
     "output_type": "stream",
     "text": [
      "Available CPU cores: 8\n"
     ]
    }
   ],
   "source": [
    "import os\n",
    "print(\"Available CPU cores:\", os.cpu_count())"
   ]
  },
  {
   "cell_type": "code",
   "execution_count": null,
   "id": "0c118e2a",
   "metadata": {},
   "outputs": [],
   "source": []
  }
 ],
 "metadata": {
  "kernelspec": {
   "display_name": "env1",
   "language": "python",
   "name": "python3"
  },
  "language_info": {
   "codemirror_mode": {
    "name": "ipython",
    "version": 3
   },
   "file_extension": ".py",
   "mimetype": "text/x-python",
   "name": "python",
   "nbconvert_exporter": "python",
   "pygments_lexer": "ipython3",
   "version": "3.11.13"
  }
 },
 "nbformat": 4,
 "nbformat_minor": 5
}
